{
 "cells": [
  {
   "cell_type": "code",
   "execution_count": 6,
   "metadata": {},
   "outputs": [],
   "source": [
    "import requests"
   ]
  },
  {
   "cell_type": "code",
   "execution_count": 7,
   "metadata": {},
   "outputs": [
    {
     "data": {
      "text/plain": [
       "'http://localhost:8000/api/courses'"
      ]
     },
     "execution_count": 7,
     "metadata": {},
     "output_type": "execute_result"
    }
   ],
   "source": [
    "path = \"/api/courses\"\n",
    "base_url = \"http://localhost:8000\"\n",
    "\n",
    "end_point = f\"{base_url}{path}\"\n",
    "end_point"
   ]
  },
  {
   "cell_type": "code",
   "execution_count": 8,
   "metadata": {},
   "outputs": [],
   "source": [
    "# Test create course endpoint\n",
    "data = {\n",
    "    \"title\": \"How to play a support?\",\n",
    "    \"description\": \"This is description\",\n",
    "    \"type\": \"ORDINARY\",\n",
    "}"
   ]
  },
  {
   "cell_type": "code",
   "execution_count": 9,
   "metadata": {},
   "outputs": [
    {
     "data": {
      "text/plain": [
       "str"
      ]
     },
     "execution_count": 9,
     "metadata": {},
     "output_type": "execute_result"
    }
   ],
   "source": [
    "import json\n",
    "type(json.dumps(data))"
   ]
  },
  {
   "cell_type": "code",
   "execution_count": 10,
   "metadata": {},
   "outputs": [
    {
     "name": "stdout",
     "output_type": "stream",
     "text": [
      "True\n",
      "{'date': 'Thu, 17 Apr 2025 10:07:27 GMT', 'server': 'uvicorn', 'content-length': '231', 'content-type': 'application/json'}\n",
      "{'title': 'How to play a support?', 'description': 'This is description', 'user_id': None, 'updated_at': '2025-04-17T10:07:28.316057', 'type': 'ORDINARY', 'id': 'cd79847d-f9bb-46af-b11e-664e0493c0e2', 'created_at': '2025-04-17T10:07:28.316053'} <class 'dict'> None\n"
     ]
    }
   ],
   "source": [
    "headers = {\n",
    "    \"Content-Type\": \"application/json\"\n",
    "}\n",
    "response = requests.post(end_point, data=json.dumps(data), headers=headers) #data ở đây là json\n",
    "print(response.ok)\n",
    "print(response.headers)\n",
    "if response.ok:\n",
    "    data = response.json()  # Parse the JSON response\n",
    "    print(data, type(data), data.get(\"items\"))\n",
    "else:\n",
    "    print(response.text)"
   ]
  },
  {
   "cell_type": "code",
   "execution_count": 11,
   "metadata": {},
   "outputs": [
    {
     "name": "stdout",
     "output_type": "stream",
     "text": [
      "True\n",
      "{'date': 'Thu, 17 Apr 2025 10:07:27 GMT', 'server': 'uvicorn', 'content-length': '231', 'content-type': 'application/json'}\n",
      "{'title': 'How to play a support?', 'description': 'This is description', 'user_id': None, 'updated_at': '2025-04-17T10:07:28.389933', 'type': 'ORDINARY', 'id': '1d792716-dafc-4b56-a91f-a78c8a1a5588', 'created_at': '2025-04-17T10:07:28.389929'} <class 'dict'> None\n"
     ]
    }
   ],
   "source": [
    "data = {\n",
    "    \"id\": 1, # Truong nay se tu filter boi Schema\n",
    "    \"title\": \"How to play a support?\",\n",
    "    \"description\": \"This is description\",\n",
    "    \"type\": \"ORDINARY\",\n",
    "}\n",
    "headers = {\"Content-Type\": \"application/json\"}\n",
    "response = requests.post(end_point, json=data, headers=headers) #data ở đây là dictionary\n",
    "print(response.ok)\n",
    "print(response.headers)\n",
    "if response.ok:\n",
    "    data = response.json()  # Parse the JSON response\n",
    "    print(data, type(data), data.get(\"items\"))\n",
    "else:\n",
    "    print(response.text)"
   ]
  },
  {
   "cell_type": "code",
   "execution_count": 12,
   "metadata": {},
   "outputs": [
    {
     "name": "stdout",
     "output_type": "stream",
     "text": [
      "True\n",
      "{'date': 'Thu, 17 Apr 2025 10:07:27 GMT', 'server': 'uvicorn', 'content-length': '119', 'content-type': 'application/json'}\n",
      "{'id': '12', 'title': 'How to play a carry?', 'description': 'This is updated description', 'type': 'ORDINARY', 'user_id': None} <class 'dict'> None\n"
     ]
    }
   ],
   "source": [
    "# Test Update course_endpoint\n",
    "detail_path = \"/api/courses/12\"\n",
    "detail_endpoint = f\"{base_url}{detail_path}\"\n",
    "\n",
    "response = requests.put(\n",
    "    detail_endpoint,\n",
    "    json={\"title\": \"How to play a carry?\", \"description\": \"This is updated description\"},\n",
    ")\n",
    "print(response.ok)\n",
    "print(response.headers)\n",
    "if response.ok:\n",
    "    data = response.json()\n",
    "    print(data, type(data), data.get('items'))\n",
    "else:\n",
    "    print(response.text)"
   ]
  }
 ],
 "metadata": {
  "kernelspec": {
   "display_name": ".venv",
   "language": "python",
   "name": "python3"
  },
  "language_info": {
   "codemirror_mode": {
    "name": "ipython",
    "version": 3
   },
   "file_extension": ".py",
   "mimetype": "text/x-python",
   "name": "python",
   "nbconvert_exporter": "python",
   "pygments_lexer": "ipython3",
   "version": "3.13.2"
  }
 },
 "nbformat": 4,
 "nbformat_minor": 2
}
