{
 "cells": [
  {
   "cell_type": "code",
   "execution_count": 23,
   "metadata": {},
   "outputs": [],
   "source": [
    "import requests"
   ]
  },
  {
   "cell_type": "code",
   "execution_count": 24,
   "metadata": {},
   "outputs": [
    {
     "data": {
      "text/plain": [
       "'http://localhost:8000/api/courses'"
      ]
     },
     "execution_count": 24,
     "metadata": {},
     "output_type": "execute_result"
    }
   ],
   "source": [
    "path = \"/api/courses\"\n",
    "base_url = \"http://localhost:8000\"\n",
    "\n",
    "end_point = f\"{base_url}{path}\"\n",
    "end_point"
   ]
  },
  {
   "cell_type": "code",
   "execution_count": 25,
   "metadata": {},
   "outputs": [],
   "source": [
    "# Test create course endpoint\n",
    "data = {\n",
    "    \"title\": \"How to play a support?\",\n",
    "    \"description\": \"This is description\",\n",
    "    \"type\": \"ORDINARY\",\n",
    "}"
   ]
  },
  {
   "cell_type": "code",
   "execution_count": 26,
   "metadata": {},
   "outputs": [
    {
     "data": {
      "text/plain": [
       "str"
      ]
     },
     "execution_count": 26,
     "metadata": {},
     "output_type": "execute_result"
    }
   ],
   "source": [
    "import json\n",
    "type(json.dumps(data))"
   ]
  },
  {
   "cell_type": "code",
   "execution_count": 31,
   "metadata": {},
   "outputs": [
    {
     "name": "stdout",
     "output_type": "stream",
     "text": [
      "True\n",
      "{'date': 'Thu, 17 Apr 2025 05:55:14 GMT', 'server': 'uvicorn', 'content-length': '231', 'content-type': 'application/json'}\n",
      "{'description': 'This is description', 'user_id': None, 'title': 'How to play a support?', 'updated_at': '2025-04-17T05:55:22.313588', 'type': 'ORDINARY', 'id': 'c827205c-dc84-49e7-9392-dd93574b3840', 'created_at': '2025-04-17T05:55:22.313569'} <class 'dict'> None\n"
     ]
    }
   ],
   "source": [
    "headers = {\n",
    "    \"Content-Type\": \"application/json\"\n",
    "}\n",
    "response = requests.post(end_point, data=json.dumps(data), headers=headers) #data ở đây là json\n",
    "print(response.ok)\n",
    "print(response.headers)\n",
    "if response.ok:\n",
    "    data = response.json()  # Parse the JSON response\n",
    "    print(data, type(data), data.get(\"items\"))\n",
    "else:\n",
    "    print(response.text)"
   ]
  },
  {
   "cell_type": "code",
   "execution_count": 20,
   "metadata": {},
   "outputs": [
    {
     "name": "stdout",
     "output_type": "stream",
     "text": [
      "False\n",
      "{'date': 'Thu, 17 Apr 2025 05:48:57 GMT', 'server': 'uvicorn', 'content-length': '21', 'content-type': 'text/plain; charset=utf-8'}\n",
      "Internal Server Error\n"
     ]
    }
   ],
   "source": [
    "data = {\n",
    "    \"id\": 1, # Truong nay se tu filter boi Schema\n",
    "    \"title\": \"How to play a support?\",\n",
    "    \"description\": \"This is description\",\n",
    "    \"type\": \"ORDINARY\",\n",
    "}\n",
    "headers = {\"Content-Type\": \"application/json\"}\n",
    "response = requests.post(end_point, json=data, headers=headers) #data ở đây là dictionary\n",
    "print(response.ok)\n",
    "print(response.headers)\n",
    "if response.ok:\n",
    "    data = response.json()  # Parse the JSON response\n",
    "    print(data, type(data), data.get(\"items\"))\n",
    "else:\n",
    "    print(response.text)"
   ]
  },
  {
   "cell_type": "code",
   "execution_count": 21,
   "metadata": {},
   "outputs": [
    {
     "name": "stdout",
     "output_type": "stream",
     "text": [
      "True\n",
      "{'date': 'Thu, 17 Apr 2025 05:48:57 GMT', 'server': 'uvicorn', 'content-length': '117', 'content-type': 'application/json'}\n",
      "{'id': 12, 'title': 'How to play a carry?', 'description': 'This is updated description', 'type': 'ORDINARY', 'user_id': None} <class 'dict'> None\n"
     ]
    }
   ],
   "source": [
    "# Test Update course_endpoint\n",
    "detail_path = \"/api/courses/12\"\n",
    "detail_endpoint = f\"{base_url}{detail_path}\"\n",
    "\n",
    "response = requests.put(\n",
    "    detail_endpoint,\n",
    "    json={\"title\": \"How to play a carry?\", \"description\": \"This is updated description\"},\n",
    ")\n",
    "print(response.ok)\n",
    "print(response.headers)\n",
    "if response.ok:\n",
    "    data = response.json()\n",
    "    print(data, type(data), data.get('items'))\n",
    "else:\n",
    "    print(response.text)"
   ]
  }
 ],
 "metadata": {
  "kernelspec": {
   "display_name": ".venv",
   "language": "python",
   "name": "python3"
  },
  "language_info": {
   "codemirror_mode": {
    "name": "ipython",
    "version": 3
   },
   "file_extension": ".py",
   "mimetype": "text/x-python",
   "name": "python",
   "nbconvert_exporter": "python",
   "pygments_lexer": "ipython3",
   "version": "3.13.2"
  }
 },
 "nbformat": 4,
 "nbformat_minor": 2
}
